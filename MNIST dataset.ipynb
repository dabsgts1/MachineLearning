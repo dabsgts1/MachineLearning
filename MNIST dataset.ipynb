{
 "cells": [
  {
   "cell_type": "code",
   "execution_count": 2,
   "metadata": {},
   "outputs": [
    {
     "name": "stdout",
     "output_type": "stream",
     "text": [
      "WARNING:tensorflow:From /opt/anaconda3/lib/python3.7/site-packages/tensorflow/python/ops/resource_variable_ops.py:435: colocate_with (from tensorflow.python.framework.ops) is deprecated and will be removed in a future version.\n",
      "Instructions for updating:\n",
      "Colocations handled automatically by placer.\n",
      "Epoch 1/5\n",
      "60000/60000 [==============================] - 2s 27us/step - loss: 2.0365 - accuracy: 0.2060\n",
      "Epoch 2/5\n",
      "60000/60000 [==============================] - 1s 25us/step - loss: 1.9511 - accuracy: 0.2629\n",
      "Epoch 3/5\n",
      "60000/60000 [==============================] - 2s 25us/step - loss: 1.9198 - accuracy: 0.2819\n",
      "Epoch 4/5\n",
      "60000/60000 [==============================] - 1s 25us/step - loss: 1.9026 - accuracy: 0.2776\n",
      "Epoch 5/5\n",
      "60000/60000 [==============================] - 1s 25us/step - loss: 1.8925 - accuracy: 0.3069\n",
      "10000/10000 [==============================] - 0s 13us/step\n"
     ]
    },
    {
     "data": {
      "text/plain": [
       "[1.724874697303772, 0.35199999809265137]"
      ]
     },
     "execution_count": 2,
     "metadata": {},
     "output_type": "execute_result"
    },
    {
     "data": {
      "image/png": "[encoded data removed]",
      "text/plain": [
       "<Figure size 432x288 with 9 Axes>"
      ]
     },
     "metadata": {
      "needs_background": "light"
     },
     "output_type": "display_data"
    }
   ],
   "source": [
    "import tensorflow as tf\n",
    "from tensorflow import keras\n",
    "mnist = tf.keras.datasets.mnist\n",
    " \n",
    "(X_train, Y_train), (X_test, Y_test) = mnist.load_data()\n",
    "# Converting from integers to floating point\n",
    "X_train, X_test = X_train / 255.0, X_test / 255.0\n",
    "# Visualizing the first few digits using matplotlib\n",
    "import matplotlib.pyplot as plt\n",
    " \n",
    "for i in range(0, 9):\n",
    "  digit = X_train[i]\n",
    "  plt.subplot(330 + i + 1)\n",
    "  digit = digit.reshape(28, 28)\n",
    "  plt.imshow(digit)\n",
    "    \n",
    "from keras.models import Sequential\n",
    "from keras.layers import Flatten, Dense, Dropout\n",
    " \n",
    "model = Sequential([\n",
    "    Flatten(input_shape=(28, 28)),\n",
    "    Dense(1, activation=tf.nn.relu),\n",
    "    \n",
    "    Dropout(0.2),\n",
    "    Dense(10, activation=tf.nn.softmax)\n",
    "])\n",
    " \n",
    "model.compile(optimizer='adam',\n",
    "             loss='sparse_categorical_crossentropy',\n",
    "             metrics=['accuracy'])\n",
    "\n",
    "model.fit(X_train, Y_train, epochs=5)\n",
    "model.evaluate(X_test, Y_test)"
   ]
  },
  {
   "cell_type": "code",
   "execution_count": 3,
   "metadata": {},
   "outputs": [
    {
     "name": "stdout",
     "output_type": "stream",
     "text": [
      "Epoch 1/5\n",
      "60000/60000 [==============================] - 5s 75us/step - loss: 0.2217 - accuracy: 0.9347\n",
      "Epoch 2/5\n",
      "60000/60000 [==============================] - 4s 71us/step - loss: 0.0982 - accuracy: 0.9693\n",
      "Epoch 3/5\n",
      "60000/60000 [==============================] - 5s 76us/step - loss: 0.0699 - accuracy: 0.9779\n",
      "Epoch 4/5\n",
      "60000/60000 [==============================] - 4s 74us/step - loss: 0.0536 - accuracy: 0.9824\n",
      "Epoch 5/5\n",
      "60000/60000 [==============================] - 4s 74us/step - loss: 0.0425 - accuracy: 0.9865\n",
      "10000/10000 [==============================] - 0s 23us/step\n"
     ]
    },
    {
     "data": {
      "text/plain": [
       "[0.0741274352211185, 0.9763000011444092]"
      ]
     },
     "execution_count": 3,
     "metadata": {},
     "output_type": "execute_result"
    }
   ],
   "source": [
    "from keras.models import Sequential\n",
    "from keras.layers import Flatten, Dense, Dropout\n",
    " \n",
    "model = Sequential([\n",
    "    Flatten(input_shape=(28, 28)),\n",
    "    Dense(512, activation=tf.nn.relu),\n",
    "    Dropout(0.2),\n",
    "    Dense(10, activation=tf.nn.softmax)\n",
    "])\n",
    " \n",
    "model.compile(optimizer='adam',\n",
    "             loss='sparse_categorical_crossentropy',\n",
    "             metrics=['accuracy'])\n",
    "\n",
    "model.fit(X_train, Y_train, epochs=5)\n",
    "model.evaluate(X_test, Y_test)"
   ]
  }
 ],
 "metadata": {
  "kernelspec": {
   "display_name": "Python 3",
   "language": "python",
   "name": "python3"
  },
  "language_info": {
   "codemirror_mode": {
    "name": "ipython",
    "version": 3
   },
   "file_extension": ".py",
   "mimetype": "text/x-python",
   "name": "python",
   "nbconvert_exporter": "python",
   "pygments_lexer": "ipython3",
   "version": "3.7.6"
  }
 },
 "nbformat": 4,
 "nbformat_minor": 4
}
